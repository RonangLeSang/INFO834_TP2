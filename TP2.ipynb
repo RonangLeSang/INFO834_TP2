{
 "cells": [
  {
   "cell_type": "markdown",
   "metadata": {},
   "source": [
    "## INFO834 TP2     \n"
   ]
  },
  {
   "cell_type": "code",
   "execution_count": 88,
   "metadata": {
    "ExecuteTime": {
     "end_time": "2024-01-31T12:59:43.647499100Z",
     "start_time": "2024-01-31T12:59:43.588586Z"
    }
   },
   "outputs": [],
   "source": [
    "import pandas as pd\n",
    "import pyarrow as pa\n",
    "import pyarrow.parquet as pq"
   ]
  },
  {
   "cell_type": "code",
   "execution_count": 89,
   "metadata": {
    "ExecuteTime": {
     "end_time": "2024-01-31T12:59:43.693054700Z",
     "start_time": "2024-01-31T12:59:43.595588600Z"
    }
   },
   "outputs": [
    {
     "name": "stdout",
     "output_type": "stream",
     "text": [
      "                         academie                              wikipedia  \\\n",
      "0                Académie de Lyon        fr:Académie de Lyon (éducation)   \n",
      "1               Académie d'Amiens       fr:Académie d'Amiens (éducation)   \n",
      "2    Académie de Clermont-Ferrand        fr:Académie de Clermont-Ferrand   \n",
      "3        Académie d'Aix-Marseille            fr:Académie d'Aix-Marseille   \n",
      "4        Académie d'Aix-Marseille            fr:Académie d'Aix-Marseille   \n",
      "..                            ...                                    ...   \n",
      "96         Académie de Versailles  fr:Académie de Versailles (éducation)   \n",
      "97      Académie de la Guadeloupe           fr:Académie de la Guadeloupe   \n",
      "98      Académie de la Martinique           fr:Académie de la Martinique   \n",
      "99             Académie de Guyane               fr:Académie de la Guyane   \n",
      "100        Académie de la Réunion              fr:Académie de La Réunion   \n",
      "\n",
      "    vacances  dep              departement                       region  \n",
      "0     Zone A   01                      Ain         Auvergne-Rhône-Alpes  \n",
      "1     Zone B   02                    Aisne  Nord-Pas-de-Calais-Picardie  \n",
      "2     Zone A   03                   Allier         Auvergne-Rhône-Alpes  \n",
      "3     Zone B   04  Alpes-de-Haute-Provence   Provence-Alpes-Côte d'Azur  \n",
      "4     Zone B   05             Hautes-Alpes   Provence-Alpes-Côte d'Azur  \n",
      "..       ...  ...                      ...                          ...  \n",
      "96    Zone C   95               Val-d'Oise                Île-de-France  \n",
      "97       NaN  971               Guadeloupe                   Guadeloupe  \n",
      "98       NaN  972               Martinique                   Martinique  \n",
      "99       NaN  973                   Guyane                       Guyane  \n",
      "100      NaN  974               La Réunion                   La Réunion  \n",
      "\n",
      "[101 rows x 6 columns]\n",
      "       dep                       nom     cp  nb_hab_2010  nb_hab_1999  \\\n",
      "0        1                      Ozan   1190          618          469   \n",
      "1        1     Cormoranche-sur-Saône   1290         1058          903   \n",
      "2        1                    Plagne   1130          129           83   \n",
      "3        1                   Tossiat   1250         1406         1111   \n",
      "4        1                  Pouillat   1250           88           58   \n",
      "...    ...                       ...    ...          ...          ...   \n",
      "36695  976                      Sada  97640        10195        10195   \n",
      "36696  976                  Tsingoni  97680        10454        10454   \n",
      "36697  971          Saint-Barthélemy  97133         8938         8938   \n",
      "36698  971              Saint-Martin  97150        36979        36979   \n",
      "36699  975  Saint-Pierre-et-Miquelon  97500         6080         6080   \n",
      "\n",
      "       nb_hab_2012  dens    surf      long       lat  alt_min  alt_max  \n",
      "0              500    93    6.60   4.91667  46.38330    170.0    205.0  \n",
      "1             1000   107    9.85   4.83333  46.23330    168.0    211.0  \n",
      "2              100    20    6.20   5.73333  46.18330    560.0    922.0  \n",
      "3             1400   138   10.17   5.31667  46.13330    244.0    501.0  \n",
      "4              100    14    6.23   5.43333  46.33330    333.0    770.0  \n",
      "...            ...   ...     ...       ...       ...      ...      ...  \n",
      "36695        10195   933   10.92  45.10470 -12.84860      NaN      NaN  \n",
      "36696        10454   300   34.76  45.10700 -12.78970      NaN      NaN  \n",
      "36697         8938   372   24.00 -62.83330  17.91670      NaN      NaN  \n",
      "36698        36979   695   53.20  18.09130 -63.08290      NaN      NaN  \n",
      "36699         6080    25  242.00  46.71070   1.71819      NaN      NaN  \n",
      "\n",
      "[36700 rows x 12 columns]\n"
     ]
    }
   ],
   "source": [
    "\n",
    "file_path_1 = './data/academies_virgule.csv'\n",
    "\n",
    "file_path_2 = './data/villes_virgule.csv'\n",
    "\n",
    "dfAcademies = pd.read_csv(file_path_1)\n",
    "dfVilles = pd.read_csv(file_path_2)\n",
    "\n",
    "print(dfAcademies)\n",
    "print(dfVilles)\n"
   ]
  },
  {
   "cell_type": "code",
   "execution_count": 89,
   "metadata": {
    "ExecuteTime": {
     "end_time": "2024-01-31T12:59:43.693054700Z",
     "start_time": "2024-01-31T12:59:43.681211900Z"
    }
   },
   "outputs": [],
   "source": []
  },
  {
   "cell_type": "markdown",
   "metadata": {},
   "source": [
    "### Question 1) \n",
    " Quatre fonctions qui permettent de convertir les données données en paramètre d'un format vers l'autre\n",
    "(en lecture et écriture) : dataframe < - > table, table < - > fichier parquet. Tester sur les données des villes\n",
    "et académies."
   ]
  },
  {
   "cell_type": "code",
   "execution_count": 90,
   "metadata": {
    "ExecuteTime": {
     "end_time": "2024-01-31T12:59:43.707134900Z",
     "start_time": "2024-01-31T12:59:43.683829500Z"
    }
   },
   "outputs": [],
   "source": [
    "tableAcademies =  pa.Table.from_pandas(dfAcademies)\n",
    "tableVilles =  pa.Table.from_pandas(dfVilles)"
   ]
  },
  {
   "cell_type": "code",
   "execution_count": 91,
   "metadata": {
    "ExecuteTime": {
     "end_time": "2024-01-31T12:59:43.720287200Z",
     "start_time": "2024-01-31T12:59:43.708167100Z"
    }
   },
   "outputs": [
    {
     "name": "stdout",
     "output_type": "stream",
     "text": [
      "pyarrow.Table\n",
      "academie: string\n",
      "wikipedia: string\n",
      "vacances: string\n",
      "dep: string\n",
      "departement: string\n",
      "region: string\n",
      "----\n",
      "academie: [[\"Académie de Lyon\",\"Académie d'Amiens\",\"Académie de Clermont-Ferrand\",\"Académie d'Aix-Marseille\",\"Académie d'Aix-Marseille\",...,\"Académie de Versailles\",\"Académie de la Guadeloupe\",\"Académie de la Martinique\",\"Académie de Guyane\",\"Académie de la Réunion\"]]\n",
      "wikipedia: [[\"fr:Académie de Lyon (éducation)\",\"fr:Académie d'Amiens (éducation)\",\"fr:Académie de Clermont-Ferrand\",\"fr:Académie d'Aix-Marseille\",\"fr:Académie d'Aix-Marseille\",...,\"fr:Académie de Versailles (éducation)\",\"fr:Académie de la Guadeloupe\",\"fr:Académie de la Martinique\",\"fr:Académie de la Guyane\",\"fr:Académie de La Réunion\"]]\n",
      "vacances: [[\"Zone A\",\"Zone B\",\"Zone A\",\"Zone B\",\"Zone B\",...,\"Zone C\",null,null,null,null]]\n",
      "dep: [[\"01\",\"02\",\"03\",\"04\",\"05\",...,\"95\",\"971\",\"972\",\"973\",\"974\"]]\n",
      "departement: [[\"Ain\",\"Aisne\",\"Allier\",\"Alpes-de-Haute-Provence\",\"Hautes-Alpes\",...,\"Val-d'Oise\",\"Guadeloupe\",\"Martinique\",\"Guyane\",\"La Réunion\"]]\n",
      "region: [[\"Auvergne-Rhône-Alpes\",\"Nord-Pas-de-Calais-Picardie\",\"Auvergne-Rhône-Alpes\",\"Provence-Alpes-Côte d'Azur\",\"Provence-Alpes-Côte d'Azur\",...,\"Île-de-France\",\"Guadeloupe\",\"Martinique\",\"Guyane\",\"La Réunion\"]]\n",
      "pyarrow.Table\n",
      "dep: string\n",
      "nom: string\n",
      "cp: string\n",
      "nb_hab_2010: int64\n",
      "nb_hab_1999: int64\n",
      "nb_hab_2012: int64\n",
      "dens: int64\n",
      "surf: double\n",
      "long: double\n",
      "lat: double\n",
      "alt_min: double\n",
      "alt_max: double\n",
      "----\n",
      "dep: [[\"1\",\"1\",\"1\",\"1\",\"1\",...,\"976\",\"976\",\"971\",\"971\",\"975\"]]\n",
      "nom: [[\"Ozan\",\"Cormoranche-sur-Saône\",\"Plagne\",\"Tossiat\",\"Pouillat\",...,\"Sada\",\"Tsingoni\",\"Saint-Barthélemy\",\"Saint-Martin\",\"Saint-Pierre-et-Miquelon\"]]\n",
      "cp: [[\"1190\",\"1290\",\"1130\",\"1250\",\"1250\",...,\"97640\",\"97680\",\"97133\",\"97150\",\"97500\"]]\n",
      "nb_hab_2010: [[618,1058,129,1406,88,...,10195,10454,8938,36979,6080]]\n",
      "nb_hab_1999: [[469,903,83,1111,58,...,10195,10454,8938,36979,6080]]\n",
      "nb_hab_2012: [[500,1000,100,1400,100,...,10195,10454,8938,36979,6080]]\n",
      "dens: [[93,107,20,138,14,...,933,300,372,695,25]]\n",
      "surf: [[6.6,9.85,6.2,10.17,6.23,...,10.92,34.76,24,53.2,242]]\n",
      "long: [[4.91667,4.83333,5.73333,5.31667,5.43333,...,45.1047,45.107,-62.8333,18.0913,46.7107]]\n",
      "lat: [[46.3833,46.2333,46.1833,46.1333,46.3333,...,-12.8486,-12.7897,17.9167,-63.0829,1.71819]]\n",
      "...\n"
     ]
    }
   ],
   "source": [
    "print(tableAcademies)\n",
    "print(tableVilles)"
   ]
  },
  {
   "cell_type": "code",
   "execution_count": 92,
   "metadata": {
    "ExecuteTime": {
     "end_time": "2024-01-31T12:59:43.730650300Z",
     "start_time": "2024-01-31T12:59:43.715300100Z"
    }
   },
   "outputs": [],
   "source": [
    "pq.write_table(tableAcademies, \"./parquet/question1.parquet\")\n"
   ]
  },
  {
   "cell_type": "markdown",
   "metadata": {},
   "source": [
    "### Question 2) \n",
    " Une fonction qui permet d’afficher le schéma d'une table. Tester sur les données villes et académies.\n"
   ]
  },
  {
   "cell_type": "code",
   "execution_count": 93,
   "outputs": [
    {
     "name": "stdout",
     "output_type": "stream",
     "text": [
      "academie: string\n",
      "wikipedia: string\n",
      "vacances: string\n",
      "dep: string\n",
      "departement: string\n",
      "region: string\n",
      "-- schema metadata --\n",
      "pandas: '{\"index_columns\": [{\"kind\": \"range\", \"name\": null, \"start\": 0, \"' + 951\n",
      "dep: string\n",
      "nom: string\n",
      "cp: string\n",
      "nb_hab_2010: int64\n",
      "nb_hab_1999: int64\n",
      "nb_hab_2012: int64\n",
      "dens: int64\n",
      "surf: double\n",
      "long: double\n",
      "lat: double\n",
      "alt_min: double\n",
      "alt_max: double\n",
      "-- schema metadata --\n",
      "pandas: '{\"index_columns\": [{\"kind\": \"range\", \"name\": null, \"start\": 0, \"' + 1596\n"
     ]
    }
   ],
   "source": [
    "print(tableAcademies.schema)\n",
    "print(tableVilles.schema)"
   ],
   "metadata": {
    "collapsed": false,
    "ExecuteTime": {
     "end_time": "2024-01-31T12:59:43.804046900Z",
     "start_time": "2024-01-31T12:59:43.725625800Z"
    }
   }
  },
  {
   "cell_type": "markdown",
   "metadata": {},
   "source": [
    "### Question 3) \n",
    " Une fonction qui renvoie la colonne col d'une table donnée en paramètre (fonction column() ou select())."
   ]
  },
  {
   "cell_type": "code",
   "execution_count": 94,
   "outputs": [
    {
     "data": {
      "text/plain": "                                         0\n0          fr:Académie de Lyon (éducation)\n1         fr:Académie d'Amiens (éducation)\n2          fr:Académie de Clermont-Ferrand\n3              fr:Académie d'Aix-Marseille\n4              fr:Académie d'Aix-Marseille\n..                                     ...\n96   fr:Académie de Versailles (éducation)\n97            fr:Académie de la Guadeloupe\n98            fr:Académie de la Martinique\n99                fr:Académie de la Guyane\n100              fr:Académie de La Réunion\n\n[101 rows x 1 columns]",
      "text/html": "<div>\n<style scoped>\n    .dataframe tbody tr th:only-of-type {\n        vertical-align: middle;\n    }\n\n    .dataframe tbody tr th {\n        vertical-align: top;\n    }\n\n    .dataframe thead th {\n        text-align: right;\n    }\n</style>\n<table border=\"1\" class=\"dataframe\">\n  <thead>\n    <tr style=\"text-align: right;\">\n      <th></th>\n      <th>0</th>\n    </tr>\n  </thead>\n  <tbody>\n    <tr>\n      <th>0</th>\n      <td>fr:Académie de Lyon (éducation)</td>\n    </tr>\n    <tr>\n      <th>1</th>\n      <td>fr:Académie d'Amiens (éducation)</td>\n    </tr>\n    <tr>\n      <th>2</th>\n      <td>fr:Académie de Clermont-Ferrand</td>\n    </tr>\n    <tr>\n      <th>3</th>\n      <td>fr:Académie d'Aix-Marseille</td>\n    </tr>\n    <tr>\n      <th>4</th>\n      <td>fr:Académie d'Aix-Marseille</td>\n    </tr>\n    <tr>\n      <th>...</th>\n      <td>...</td>\n    </tr>\n    <tr>\n      <th>96</th>\n      <td>fr:Académie de Versailles (éducation)</td>\n    </tr>\n    <tr>\n      <th>97</th>\n      <td>fr:Académie de la Guadeloupe</td>\n    </tr>\n    <tr>\n      <th>98</th>\n      <td>fr:Académie de la Martinique</td>\n    </tr>\n    <tr>\n      <th>99</th>\n      <td>fr:Académie de la Guyane</td>\n    </tr>\n    <tr>\n      <th>100</th>\n      <td>fr:Académie de La Réunion</td>\n    </tr>\n  </tbody>\n</table>\n<p>101 rows × 1 columns</p>\n</div>"
     },
     "execution_count": 94,
     "metadata": {},
     "output_type": "execute_result"
    }
   ],
   "source": [
    "def column(table, columnName):\n",
    "    return pd.DataFrame(table[columnName])\n",
    "\n",
    "column(tableAcademies, \"wikipedia\")\n",
    "    "
   ],
   "metadata": {
    "collapsed": false,
    "ExecuteTime": {
     "end_time": "2024-01-31T12:59:43.805577200Z",
     "start_time": "2024-01-31T12:59:43.730650300Z"
    }
   }
  },
  {
   "cell_type": "code",
   "execution_count": 94,
   "outputs": [],
   "source": [],
   "metadata": {
    "collapsed": false,
    "ExecuteTime": {
     "end_time": "2024-01-31T12:59:43.805577200Z",
     "start_time": "2024-01-31T12:59:43.745695800Z"
    }
   }
  },
  {
   "cell_type": "markdown",
   "metadata": {},
   "source": [
    "### Question 4) \n",
    "En utilisant les fonctions compute de pyarrow, des fonctions qui renvoient des statistiques sur une\n",
    "colonne de table : count, count_distinct, sum, min, max. Tester sur des colonnes de la table des villes."
   ]
  },
  {
   "cell_type": "markdown",
   "metadata": {},
   "source": [
    "### Question 5)\n",
    "Filtrage et tri : des fonctions pour sélectionner les informations sur une ville (e.g. Annecy) et pour\n",
    "sélectionner les informations sur un département (e.g. Haute-Savoie) par ordre alphabétique des villes\n",
    "(fonction filter et sort)."
   ]
  },
  {
   "cell_type": "markdown",
   "metadata": {},
   "source": [
    "### Question 6)\n",
    "Calculs sur plusieurs colonnes et agrégats : calcul du nombre moyen d'habitants en 2012 ; calcul du\n",
    "nombre moyen d'habitants par département ; afficher le résultat pour le département 74 (fonction\n",
    "TableGroupBy)."
   ]
  },
  {
   "cell_type": "markdown",
   "metadata": {},
   "source": [
    "### Question 7)\n",
    "Opérations ensemblistes jointures : afficher les zones de vacances des villes ; les villes de la zone de\n",
    "vacances A ; les départements des zones de vacances A et B ; le nombre de villes par académie ;"
   ]
  },
  {
   "cell_type": "markdown",
   "metadata": {},
   "source": [
    "### Question 8)\n",
    "Affichage avec matplotlib : e.g. histogramme de la distribution du nombre de villes par académie."
   ]
  },
  {
   "cell_type": "markdown",
   "metadata": {},
   "source": []
  }
 ],
 "metadata": {
  "kernelspec": {
   "display_name": "base",
   "language": "python",
   "name": "python3"
  },
  "language_info": {
   "codemirror_mode": {
    "name": "ipython",
    "version": 3
   },
   "file_extension": ".py",
   "mimetype": "text/x-python",
   "name": "python",
   "nbconvert_exporter": "python",
   "pygments_lexer": "ipython3",
   "version": "3.11.4"
  }
 },
 "nbformat": 4,
 "nbformat_minor": 2
}
