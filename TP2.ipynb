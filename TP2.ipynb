{
 "cells": [
  {
   "cell_type": "markdown",
   "metadata": {},
   "source": [
    "## INFO834 TP2     \n"
   ]
  },
  {
   "cell_type": "code",
   "execution_count": 5,
   "metadata": {},
   "outputs": [],
   "source": [
    "import pandas as pd"
   ]
  },
  {
   "cell_type": "code",
   "execution_count": 6,
   "metadata": {},
   "outputs": [
    {
     "name": "stdout",
     "output_type": "stream",
     "text": [
      "                         academie                              wikipedia  \\\n",
      "0                Académie de Lyon        fr:Académie de Lyon (éducation)   \n",
      "1               Académie d'Amiens       fr:Académie d'Amiens (éducation)   \n",
      "2    Académie de Clermont-Ferrand        fr:Académie de Clermont-Ferrand   \n",
      "3        Académie d'Aix-Marseille            fr:Académie d'Aix-Marseille   \n",
      "4        Académie d'Aix-Marseille            fr:Académie d'Aix-Marseille   \n",
      "..                            ...                                    ...   \n",
      "96         Académie de Versailles  fr:Académie de Versailles (éducation)   \n",
      "97      Académie de la Guadeloupe           fr:Académie de la Guadeloupe   \n",
      "98      Académie de la Martinique           fr:Académie de la Martinique   \n",
      "99             Académie de Guyane               fr:Académie de la Guyane   \n",
      "100        Académie de la Réunion              fr:Académie de La Réunion   \n",
      "\n",
      "    vacances  dep              departement                       region  \n",
      "0     Zone A   01                      Ain         Auvergne-Rhône-Alpes  \n",
      "1     Zone B   02                    Aisne  Nord-Pas-de-Calais-Picardie  \n",
      "2     Zone A   03                   Allier         Auvergne-Rhône-Alpes  \n",
      "3     Zone B   04  Alpes-de-Haute-Provence   Provence-Alpes-Côte d'Azur  \n",
      "4     Zone B   05             Hautes-Alpes   Provence-Alpes-Côte d'Azur  \n",
      "..       ...  ...                      ...                          ...  \n",
      "96    Zone C   95               Val-d'Oise                Île-de-France  \n",
      "97       NaN  971               Guadeloupe                   Guadeloupe  \n",
      "98       NaN  972               Martinique                   Martinique  \n",
      "99       NaN  973                   Guyane                       Guyane  \n",
      "100      NaN  974               La Réunion                   La Réunion  \n",
      "\n",
      "[101 rows x 6 columns]\n",
      "       dep                       nom     cp  nb_hab_2010  nb_hab_1999  \\\n",
      "0        1                      Ozan   1190          618          469   \n",
      "1        1     Cormoranche-sur-Saône   1290         1058          903   \n",
      "2        1                    Plagne   1130          129           83   \n",
      "3        1                   Tossiat   1250         1406         1111   \n",
      "4        1                  Pouillat   1250           88           58   \n",
      "...    ...                       ...    ...          ...          ...   \n",
      "36695  976                      Sada  97640        10195        10195   \n",
      "36696  976                  Tsingoni  97680        10454        10454   \n",
      "36697  971          Saint-Barthélemy  97133         8938         8938   \n",
      "36698  971              Saint-Martin  97150        36979        36979   \n",
      "36699  975  Saint-Pierre-et-Miquelon  97500         6080         6080   \n",
      "\n",
      "       nb_hab_2012  dens    surf      long       lat  alt_min  alt_max  \n",
      "0              500    93    6.60   4.91667  46.38330    170.0    205.0  \n",
      "1             1000   107    9.85   4.83333  46.23330    168.0    211.0  \n",
      "2              100    20    6.20   5.73333  46.18330    560.0    922.0  \n",
      "3             1400   138   10.17   5.31667  46.13330    244.0    501.0  \n",
      "4              100    14    6.23   5.43333  46.33330    333.0    770.0  \n",
      "...            ...   ...     ...       ...       ...      ...      ...  \n",
      "36695        10195   933   10.92  45.10470 -12.84860      NaN      NaN  \n",
      "36696        10454   300   34.76  45.10700 -12.78970      NaN      NaN  \n",
      "36697         8938   372   24.00 -62.83330  17.91670      NaN      NaN  \n",
      "36698        36979   695   53.20  18.09130 -63.08290      NaN      NaN  \n",
      "36699         6080    25  242.00  46.71070   1.71819      NaN      NaN  \n",
      "\n",
      "[36700 rows x 12 columns]\n"
     ]
    }
   ],
   "source": [
    "\n",
    "file_path_1 = './data/academies_virgule.csv'\n",
    "\n",
    "file_path_2 = './data/villes_virgule.csv'\n",
    "\n",
    "dfAcademies = pd.read_csv(file_path_1)\n",
    "dfVilles = pd.read_csv(file_path_2)\n",
    "\n",
    "print(dfAcademies)\n",
    "print(dfVilles)\n"
   ]
  },
  {
   "cell_type": "code",
   "execution_count": null,
   "metadata": {},
   "outputs": [],
   "source": []
  }
 ],
 "metadata": {
  "kernelspec": {
   "display_name": "base",
   "language": "python",
   "name": "python3"
  },
  "language_info": {
   "codemirror_mode": {
    "name": "ipython",
    "version": 3
   },
   "file_extension": ".py",
   "mimetype": "text/x-python",
   "name": "python",
   "nbconvert_exporter": "python",
   "pygments_lexer": "ipython3",
   "version": "3.11.4"
  }
 },
 "nbformat": 4,
 "nbformat_minor": 2
}
