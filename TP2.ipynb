{
 "cells": [
  {
   "cell_type": "markdown",
   "metadata": {},
   "source": [
    "## INFO834 TP2     \n"
   ]
  },
  {
   "cell_type": "code",
   "execution_count": 129,
   "metadata": {
    "ExecuteTime": {
     "end_time": "2024-01-31T13:53:54.705788800Z",
     "start_time": "2024-01-31T13:53:54.469447600Z"
    }
   },
   "outputs": [],
   "source": [
    "import pandas as pd\n",
    "import pyarrow as pa\n",
    "import pyarrow.parquet as pq\n",
    "import pyarrow.compute as pc\n",
    "import matplotlib.pyplot as plt"
   ]
  },
  {
   "cell_type": "code",
   "execution_count": 130,
   "metadata": {
    "ExecuteTime": {
     "end_time": "2024-01-31T13:53:55.041702900Z",
     "start_time": "2024-01-31T13:53:54.483532100Z"
    }
   },
   "outputs": [
    {
     "name": "stdout",
     "output_type": "stream",
     "text": [
      "                         academie                              wikipedia  \\\n",
      "0                Académie de Lyon        fr:Académie de Lyon (éducation)   \n",
      "1               Académie d'Amiens       fr:Académie d'Amiens (éducation)   \n",
      "2    Académie de Clermont-Ferrand        fr:Académie de Clermont-Ferrand   \n",
      "3        Académie d'Aix-Marseille            fr:Académie d'Aix-Marseille   \n",
      "4        Académie d'Aix-Marseille            fr:Académie d'Aix-Marseille   \n",
      "..                            ...                                    ...   \n",
      "96         Académie de Versailles  fr:Académie de Versailles (éducation)   \n",
      "97      Académie de la Guadeloupe           fr:Académie de la Guadeloupe   \n",
      "98      Académie de la Martinique           fr:Académie de la Martinique   \n",
      "99             Académie de Guyane               fr:Académie de la Guyane   \n",
      "100        Académie de la Réunion              fr:Académie de La Réunion   \n",
      "\n",
      "    vacances  dep              departement                       region  \n",
      "0     Zone A   01                      Ain         Auvergne-Rhône-Alpes  \n",
      "1     Zone B   02                    Aisne  Nord-Pas-de-Calais-Picardie  \n",
      "2     Zone A   03                   Allier         Auvergne-Rhône-Alpes  \n",
      "3     Zone B   04  Alpes-de-Haute-Provence   Provence-Alpes-Côte d'Azur  \n",
      "4     Zone B   05             Hautes-Alpes   Provence-Alpes-Côte d'Azur  \n",
      "..       ...  ...                      ...                          ...  \n",
      "96    Zone C   95               Val-d'Oise                Île-de-France  \n",
      "97       NaN  971               Guadeloupe                   Guadeloupe  \n",
      "98       NaN  972               Martinique                   Martinique  \n",
      "99       NaN  973                   Guyane                       Guyane  \n",
      "100      NaN  974               La Réunion                   La Réunion  \n",
      "\n",
      "[101 rows x 6 columns]\n",
      "       dep                       nom     cp  nb_hab_2010  nb_hab_1999  \\\n",
      "0        1                      Ozan   1190          618          469   \n",
      "1        1     Cormoranche-sur-Saône   1290         1058          903   \n",
      "2        1                    Plagne   1130          129           83   \n",
      "3        1                   Tossiat   1250         1406         1111   \n",
      "4        1                  Pouillat   1250           88           58   \n",
      "...    ...                       ...    ...          ...          ...   \n",
      "36695  976                      Sada  97640        10195        10195   \n",
      "36696  976                  Tsingoni  97680        10454        10454   \n",
      "36697  971          Saint-Barthélemy  97133         8938         8938   \n",
      "36698  971              Saint-Martin  97150        36979        36979   \n",
      "36699  975  Saint-Pierre-et-Miquelon  97500         6080         6080   \n",
      "\n",
      "       nb_hab_2012  dens    surf      long       lat  alt_min  alt_max  \n",
      "0              500    93    6.60   4.91667  46.38330    170.0    205.0  \n",
      "1             1000   107    9.85   4.83333  46.23330    168.0    211.0  \n",
      "2              100    20    6.20   5.73333  46.18330    560.0    922.0  \n",
      "3             1400   138   10.17   5.31667  46.13330    244.0    501.0  \n",
      "4              100    14    6.23   5.43333  46.33330    333.0    770.0  \n",
      "...            ...   ...     ...       ...       ...      ...      ...  \n",
      "36695        10195   933   10.92  45.10470 -12.84860      NaN      NaN  \n",
      "36696        10454   300   34.76  45.10700 -12.78970      NaN      NaN  \n",
      "36697         8938   372   24.00 -62.83330  17.91670      NaN      NaN  \n",
      "36698        36979   695   53.20  18.09130 -63.08290      NaN      NaN  \n",
      "36699         6080    25  242.00  46.71070   1.71819      NaN      NaN  \n",
      "\n",
      "[36700 rows x 12 columns]\n"
     ]
    }
   ],
   "source": [
    "\n",
    "file_path_1 = './data/academies_virgule.csv'\n",
    "\n",
    "file_path_2 = './data/villes_virgule.csv'\n",
    "\n",
    "dfAcademies = pd.read_csv(file_path_1)\n",
    "dfVilles = pd.read_csv(file_path_2)\n",
    "\n",
    "print(dfAcademies)\n",
    "print(dfVilles)\n"
   ]
  },
  {
   "cell_type": "markdown",
   "metadata": {},
   "source": [
    "### Question 1) \n",
    " Quatre fonctions qui permettent de convertir les données données en paramètre d'un format vers l'autre\n",
    "(en lecture et écriture) : dataframe < - > table, table < - > fichier parquet. Tester sur les données des villes\n",
    "et académies."
   ]
  },
  {
   "cell_type": "code",
   "execution_count": 131,
   "metadata": {
    "ExecuteTime": {
     "end_time": "2024-01-31T13:53:55.044131Z",
     "start_time": "2024-01-31T13:53:54.676818Z"
    }
   },
   "outputs": [],
   "source": [
    "tableAcademies =  pa.Table.from_pandas(dfAcademies)\n",
    "tableVilles =  pa.Table.from_pandas(dfVilles)"
   ]
  },
  {
   "cell_type": "code",
   "execution_count": 132,
   "metadata": {
    "ExecuteTime": {
     "end_time": "2024-01-31T13:53:55.044658700Z",
     "start_time": "2024-01-31T13:53:54.724286100Z"
    }
   },
   "outputs": [
    {
     "name": "stdout",
     "output_type": "stream",
     "text": [
      "pyarrow.Table\n",
      "academie: string\n",
      "wikipedia: string\n",
      "vacances: string\n",
      "dep: string\n",
      "departement: string\n",
      "region: string\n",
      "----\n",
      "academie: [[\"Académie de Lyon\",\"Académie d'Amiens\",\"Académie de Clermont-Ferrand\",\"Académie d'Aix-Marseille\",\"Académie d'Aix-Marseille\",...,\"Académie de Versailles\",\"Académie de la Guadeloupe\",\"Académie de la Martinique\",\"Académie de Guyane\",\"Académie de la Réunion\"]]\n",
      "wikipedia: [[\"fr:Académie de Lyon (éducation)\",\"fr:Académie d'Amiens (éducation)\",\"fr:Académie de Clermont-Ferrand\",\"fr:Académie d'Aix-Marseille\",\"fr:Académie d'Aix-Marseille\",...,\"fr:Académie de Versailles (éducation)\",\"fr:Académie de la Guadeloupe\",\"fr:Académie de la Martinique\",\"fr:Académie de la Guyane\",\"fr:Académie de La Réunion\"]]\n",
      "vacances: [[\"Zone A\",\"Zone B\",\"Zone A\",\"Zone B\",\"Zone B\",...,\"Zone C\",null,null,null,null]]\n",
      "dep: [[\"01\",\"02\",\"03\",\"04\",\"05\",...,\"95\",\"971\",\"972\",\"973\",\"974\"]]\n",
      "departement: [[\"Ain\",\"Aisne\",\"Allier\",\"Alpes-de-Haute-Provence\",\"Hautes-Alpes\",...,\"Val-d'Oise\",\"Guadeloupe\",\"Martinique\",\"Guyane\",\"La Réunion\"]]\n",
      "region: [[\"Auvergne-Rhône-Alpes\",\"Nord-Pas-de-Calais-Picardie\",\"Auvergne-Rhône-Alpes\",\"Provence-Alpes-Côte d'Azur\",\"Provence-Alpes-Côte d'Azur\",...,\"Île-de-France\",\"Guadeloupe\",\"Martinique\",\"Guyane\",\"La Réunion\"]]\n",
      "pyarrow.Table\n",
      "dep: string\n",
      "nom: string\n",
      "cp: string\n",
      "nb_hab_2010: int64\n",
      "nb_hab_1999: int64\n",
      "nb_hab_2012: int64\n",
      "dens: int64\n",
      "surf: double\n",
      "long: double\n",
      "lat: double\n",
      "alt_min: double\n",
      "alt_max: double\n",
      "----\n",
      "dep: [[\"1\",\"1\",\"1\",\"1\",\"1\",...,\"976\",\"976\",\"971\",\"971\",\"975\"]]\n",
      "nom: [[\"Ozan\",\"Cormoranche-sur-Saône\",\"Plagne\",\"Tossiat\",\"Pouillat\",...,\"Sada\",\"Tsingoni\",\"Saint-Barthélemy\",\"Saint-Martin\",\"Saint-Pierre-et-Miquelon\"]]\n",
      "cp: [[\"1190\",\"1290\",\"1130\",\"1250\",\"1250\",...,\"97640\",\"97680\",\"97133\",\"97150\",\"97500\"]]\n",
      "nb_hab_2010: [[618,1058,129,1406,88,...,10195,10454,8938,36979,6080]]\n",
      "nb_hab_1999: [[469,903,83,1111,58,...,10195,10454,8938,36979,6080]]\n",
      "nb_hab_2012: [[500,1000,100,1400,100,...,10195,10454,8938,36979,6080]]\n",
      "dens: [[93,107,20,138,14,...,933,300,372,695,25]]\n",
      "surf: [[6.6,9.85,6.2,10.17,6.23,...,10.92,34.76,24,53.2,242]]\n",
      "long: [[4.91667,4.83333,5.73333,5.31667,5.43333,...,45.1047,45.107,-62.8333,18.0913,46.7107]]\n",
      "lat: [[46.3833,46.2333,46.1833,46.1333,46.3333,...,-12.8486,-12.7897,17.9167,-63.0829,1.71819]]\n",
      "...\n"
     ]
    }
   ],
   "source": [
    "print(tableAcademies)\n",
    "print(tableVilles)"
   ]
  },
  {
   "cell_type": "code",
   "execution_count": 133,
   "metadata": {
    "ExecuteTime": {
     "end_time": "2024-01-31T13:53:55.044658700Z",
     "start_time": "2024-01-31T13:53:54.740927600Z"
    }
   },
   "outputs": [],
   "source": [
    "pq.write_table(tableAcademies, \"./parquet/question1.parquet\")"
   ]
  },
  {
   "cell_type": "markdown",
   "metadata": {},
   "source": [
    "### Question 2) \n",
    " Une fonction qui permet d’afficher le schéma d'une table. Tester sur les données villes et académies.\n"
   ]
  },
  {
   "cell_type": "code",
   "execution_count": 134,
   "metadata": {
    "ExecuteTime": {
     "end_time": "2024-01-31T13:53:55.044658700Z",
     "start_time": "2024-01-31T13:53:54.752890900Z"
    },
    "collapsed": false
   },
   "outputs": [
    {
     "name": "stdout",
     "output_type": "stream",
     "text": [
      "academie: string\n",
      "wikipedia: string\n",
      "vacances: string\n",
      "dep: string\n",
      "departement: string\n",
      "region: string\n",
      "-- schema metadata --\n",
      "pandas: '{\"index_columns\": [{\"kind\": \"range\", \"name\": null, \"start\": 0, \"' + 951\n",
      "dep: string\n",
      "nom: string\n",
      "cp: string\n",
      "nb_hab_2010: int64\n",
      "nb_hab_1999: int64\n",
      "nb_hab_2012: int64\n",
      "dens: int64\n",
      "surf: double\n",
      "long: double\n",
      "lat: double\n",
      "alt_min: double\n",
      "alt_max: double\n",
      "-- schema metadata --\n",
      "pandas: '{\"index_columns\": [{\"kind\": \"range\", \"name\": null, \"start\": 0, \"' + 1596\n"
     ]
    }
   ],
   "source": [
    "print(tableAcademies.schema)\n",
    "print(tableVilles.schema)"
   ]
  },
  {
   "cell_type": "markdown",
   "metadata": {},
   "source": [
    "### Question 3) \n",
    " Une fonction qui renvoie la colonne col d'une table donnée en paramètre (fonction column() ou select())."
   ]
  },
  {
   "cell_type": "code",
   "execution_count": 135,
   "metadata": {
    "ExecuteTime": {
     "end_time": "2024-01-31T13:53:55.044658700Z",
     "start_time": "2024-01-31T13:53:54.766032800Z"
    },
    "collapsed": false
   },
   "outputs": [
    {
     "data": {
      "text/html": [
       "<div>\n",
       "<style scoped>\n",
       "    .dataframe tbody tr th:only-of-type {\n",
       "        vertical-align: middle;\n",
       "    }\n",
       "\n",
       "    .dataframe tbody tr th {\n",
       "        vertical-align: top;\n",
       "    }\n",
       "\n",
       "    .dataframe thead th {\n",
       "        text-align: right;\n",
       "    }\n",
       "</style>\n",
       "<table border=\"1\" class=\"dataframe\">\n",
       "  <thead>\n",
       "    <tr style=\"text-align: right;\">\n",
       "      <th></th>\n",
       "      <th>0</th>\n",
       "    </tr>\n",
       "  </thead>\n",
       "  <tbody>\n",
       "    <tr>\n",
       "      <th>0</th>\n",
       "      <td>fr:Académie de Lyon (éducation)</td>\n",
       "    </tr>\n",
       "    <tr>\n",
       "      <th>1</th>\n",
       "      <td>fr:Académie d'Amiens (éducation)</td>\n",
       "    </tr>\n",
       "    <tr>\n",
       "      <th>2</th>\n",
       "      <td>fr:Académie de Clermont-Ferrand</td>\n",
       "    </tr>\n",
       "    <tr>\n",
       "      <th>3</th>\n",
       "      <td>fr:Académie d'Aix-Marseille</td>\n",
       "    </tr>\n",
       "    <tr>\n",
       "      <th>4</th>\n",
       "      <td>fr:Académie d'Aix-Marseille</td>\n",
       "    </tr>\n",
       "    <tr>\n",
       "      <th>...</th>\n",
       "      <td>...</td>\n",
       "    </tr>\n",
       "    <tr>\n",
       "      <th>96</th>\n",
       "      <td>fr:Académie de Versailles (éducation)</td>\n",
       "    </tr>\n",
       "    <tr>\n",
       "      <th>97</th>\n",
       "      <td>fr:Académie de la Guadeloupe</td>\n",
       "    </tr>\n",
       "    <tr>\n",
       "      <th>98</th>\n",
       "      <td>fr:Académie de la Martinique</td>\n",
       "    </tr>\n",
       "    <tr>\n",
       "      <th>99</th>\n",
       "      <td>fr:Académie de la Guyane</td>\n",
       "    </tr>\n",
       "    <tr>\n",
       "      <th>100</th>\n",
       "      <td>fr:Académie de La Réunion</td>\n",
       "    </tr>\n",
       "  </tbody>\n",
       "</table>\n",
       "<p>101 rows × 1 columns</p>\n",
       "</div>"
      ],
      "text/plain": [
       "                                         0\n",
       "0          fr:Académie de Lyon (éducation)\n",
       "1         fr:Académie d'Amiens (éducation)\n",
       "2          fr:Académie de Clermont-Ferrand\n",
       "3              fr:Académie d'Aix-Marseille\n",
       "4              fr:Académie d'Aix-Marseille\n",
       "..                                     ...\n",
       "96   fr:Académie de Versailles (éducation)\n",
       "97            fr:Académie de la Guadeloupe\n",
       "98            fr:Académie de la Martinique\n",
       "99                fr:Académie de la Guyane\n",
       "100              fr:Académie de La Réunion\n",
       "\n",
       "[101 rows x 1 columns]"
      ]
     },
     "execution_count": 135,
     "metadata": {},
     "output_type": "execute_result"
    }
   ],
   "source": [
    "def column(table, columnName):\n",
    "    return pd.DataFrame(table[columnName])\n",
    "\n",
    "column(tableAcademies, \"wikipedia\")\n",
    "    "
   ]
  },
  {
   "cell_type": "markdown",
   "metadata": {},
   "source": [
    "### Question 4) \n",
    "En utilisant les fonctions compute de pyarrow, des fonctions qui renvoient des statistiques sur une\n",
    "colonne de table : count, count_distinct, sum, min, max. Tester sur des colonnes de la table des villes."
   ]
  },
  {
   "cell_type": "code",
   "execution_count": 136,
   "metadata": {
    "ExecuteTime": {
     "end_time": "2024-01-31T13:53:55.044658700Z",
     "start_time": "2024-01-31T13:53:54.790174200Z"
    }
   },
   "outputs": [],
   "source": [
    "def count_column(table, column_name):\n",
    "    return pc.count(table.column(column_name))\n",
    "\n",
    "def count_distinct_column(table, column_name):\n",
    "    return pc.count_distinct(table.column(column_name))\n",
    "\n",
    "def sum_column(table, column_name):\n",
    "    return pc.sum(table.column(column_name))\n",
    "\n",
    "def min_column(table, column_name):\n",
    "    return pc.min_max(table.column(column_name))['min']\n",
    "\n",
    "def max_column(table, column_name):\n",
    "    return pc.min_max(table.column(column_name))['max']"
   ]
  },
  {
   "cell_type": "code",
   "execution_count": 137,
   "metadata": {
    "ExecuteTime": {
     "end_time": "2024-01-31T13:53:55.044658700Z",
     "start_time": "2024-01-31T13:53:54.804374800Z"
    }
   },
   "outputs": [
    {
     "name": "stdout",
     "output_type": "stream",
     "text": [
      "Nombre d'habitants en 2010: 36700 \n",
      "Nombre distinct de codes postaux: 6082 \n",
      "Somme des habitants en 2010: 64886015 \n",
      "Densité minimale: 0 \n",
      "Densité maximale: 26660 \n"
     ]
    }
   ],
   "source": [
    "print(f\"Nombre d'habitants en 2010: {count_column(tableVilles, 'nb_hab_2010')} \")\n",
    "print(f\"Nombre distinct de codes postaux: {count_distinct_column(tableVilles, 'cp')} \")\n",
    "print(f\"Somme des habitants en 2010: {sum_column(tableVilles, 'nb_hab_2010')} \")\n",
    "print(f\"Densité minimale: {min_column(tableVilles, 'dens')} \")\n",
    "print(f\"Densité maximale: {max_column(tableVilles, 'dens')} \")"
   ]
  },
  {
   "cell_type": "markdown",
   "metadata": {},
   "source": [
    "### Question 5)\n",
    "Filtrage et tri : des fonctions pour sélectionner les informations sur une ville (e.g. Annecy) et pour\n",
    "sélectionner les informations sur un département (e.g. Haute-Savoie) par ordre alphabétique des villes\n",
    "(fonction filter et sort)."
   ]
  },
  {
   "cell_type": "code",
   "execution_count": 138,
   "metadata": {
    "ExecuteTime": {
     "end_time": "2024-01-31T13:53:55.044658700Z",
     "start_time": "2024-01-31T13:53:54.822495800Z"
    },
    "collapsed": false
   },
   "outputs": [
    {
     "data": {
      "text/plain": [
       "pyarrow.Table\n",
       "dep: string\n",
       "nom: string\n",
       "cp: string\n",
       "nb_hab_2010: int64\n",
       "nb_hab_1999: int64\n",
       "nb_hab_2012: int64\n",
       "dens: int64\n",
       "surf: double\n",
       "long: double\n",
       "lat: double\n",
       "alt_min: double\n",
       "alt_max: double\n",
       "----\n",
       "dep: [[\"1\"]]\n",
       "nom: [[\"Ozan\"]]\n",
       "cp: [[\"1190\"]]\n",
       "nb_hab_2010: [[618]]\n",
       "nb_hab_1999: [[469]]\n",
       "nb_hab_2012: [[500]]\n",
       "dens: [[93]]\n",
       "surf: [[6.6]]\n",
       "long: [[4.91667]]\n",
       "lat: [[46.3833]]\n",
       "..."
      ]
     },
     "execution_count": 138,
     "metadata": {},
     "output_type": "execute_result"
    }
   ],
   "source": [
    "def find_city(table, cityName):\n",
    "    name_column = table.column('nom')\n",
    "    name_series = name_column.to_pandas()\n",
    "    index = name_series[name_series == cityName].index[0]\n",
    "    return table.slice(index, index + 1)\n",
    "\n",
    "\n",
    "find_city(tableVilles, \"Ozan\")"
   ]
  },
  {
   "cell_type": "code",
   "execution_count": 139,
   "metadata": {
    "ExecuteTime": {
     "end_time": "2024-01-31T13:53:55.050278Z",
     "start_time": "2024-01-31T13:53:54.869100500Z"
    },
    "collapsed": false
   },
   "outputs": [
    {
     "data": {
      "text/html": [
       "<div>\n",
       "<style scoped>\n",
       "    .dataframe tbody tr th:only-of-type {\n",
       "        vertical-align: middle;\n",
       "    }\n",
       "\n",
       "    .dataframe tbody tr th {\n",
       "        vertical-align: top;\n",
       "    }\n",
       "\n",
       "    .dataframe thead th {\n",
       "        text-align: right;\n",
       "    }\n",
       "</style>\n",
       "<table border=\"1\" class=\"dataframe\">\n",
       "  <thead>\n",
       "    <tr style=\"text-align: right;\">\n",
       "      <th></th>\n",
       "      <th>dep</th>\n",
       "      <th>nom</th>\n",
       "      <th>cp</th>\n",
       "      <th>nb_hab_2010</th>\n",
       "      <th>nb_hab_1999</th>\n",
       "      <th>nb_hab_2012</th>\n",
       "      <th>dens</th>\n",
       "      <th>surf</th>\n",
       "      <th>long</th>\n",
       "      <th>lat</th>\n",
       "      <th>alt_min</th>\n",
       "      <th>alt_max</th>\n",
       "    </tr>\n",
       "  </thead>\n",
       "  <tbody>\n",
       "    <tr>\n",
       "      <th>30171</th>\n",
       "      <td>74</td>\n",
       "      <td>Abondance</td>\n",
       "      <td>74360</td>\n",
       "      <td>1342</td>\n",
       "      <td>1297</td>\n",
       "      <td>1300</td>\n",
       "      <td>22</td>\n",
       "      <td>58.84</td>\n",
       "      <td>6.73333</td>\n",
       "      <td>46.2833</td>\n",
       "      <td>840.0</td>\n",
       "      <td>2420.0</td>\n",
       "    </tr>\n",
       "    <tr>\n",
       "      <th>30422</th>\n",
       "      <td>74</td>\n",
       "      <td>Alby-sur-Chéran</td>\n",
       "      <td>74540</td>\n",
       "      <td>2012</td>\n",
       "      <td>1631</td>\n",
       "      <td>2000</td>\n",
       "      <td>306</td>\n",
       "      <td>6.56</td>\n",
       "      <td>6.02084</td>\n",
       "      <td>45.8167</td>\n",
       "      <td>360.0</td>\n",
       "      <td>606.0</td>\n",
       "    </tr>\n",
       "    <tr>\n",
       "      <th>30227</th>\n",
       "      <td>74</td>\n",
       "      <td>Alex</td>\n",
       "      <td>74290</td>\n",
       "      <td>985</td>\n",
       "      <td>791</td>\n",
       "      <td>1000</td>\n",
       "      <td>57</td>\n",
       "      <td>17.02</td>\n",
       "      <td>6.23333</td>\n",
       "      <td>45.8833</td>\n",
       "      <td>516.0</td>\n",
       "      <td>1852.0</td>\n",
       "    </tr>\n",
       "    <tr>\n",
       "      <th>30269</th>\n",
       "      <td>74</td>\n",
       "      <td>Allinges</td>\n",
       "      <td>74200</td>\n",
       "      <td>3982</td>\n",
       "      <td>3022</td>\n",
       "      <td>3800</td>\n",
       "      <td>265</td>\n",
       "      <td>15.01</td>\n",
       "      <td>6.46667</td>\n",
       "      <td>46.3333</td>\n",
       "      <td>438.0</td>\n",
       "      <td>750.0</td>\n",
       "    </tr>\n",
       "    <tr>\n",
       "      <th>30249</th>\n",
       "      <td>74</td>\n",
       "      <td>Allonzier-la-Caille</td>\n",
       "      <td>74350</td>\n",
       "      <td>1637</td>\n",
       "      <td>1080</td>\n",
       "      <td>1500</td>\n",
       "      <td>170</td>\n",
       "      <td>9.62</td>\n",
       "      <td>6.11667</td>\n",
       "      <td>46.0000</td>\n",
       "      <td>471.0</td>\n",
       "      <td>882.0</td>\n",
       "    </tr>\n",
       "    <tr>\n",
       "      <th>...</th>\n",
       "      <td>...</td>\n",
       "      <td>...</td>\n",
       "      <td>...</td>\n",
       "      <td>...</td>\n",
       "      <td>...</td>\n",
       "      <td>...</td>\n",
       "      <td>...</td>\n",
       "      <td>...</td>\n",
       "      <td>...</td>\n",
       "      <td>...</td>\n",
       "      <td>...</td>\n",
       "      <td>...</td>\n",
       "    </tr>\n",
       "    <tr>\n",
       "      <th>30158</th>\n",
       "      <td>74</td>\n",
       "      <td>Épagny</td>\n",
       "      <td>74330</td>\n",
       "      <td>3899</td>\n",
       "      <td>3233</td>\n",
       "      <td>3800</td>\n",
       "      <td>575</td>\n",
       "      <td>6.77</td>\n",
       "      <td>6.10000</td>\n",
       "      <td>45.9333</td>\n",
       "      <td>440.0</td>\n",
       "      <td>775.0</td>\n",
       "    </tr>\n",
       "    <tr>\n",
       "      <th>30401</th>\n",
       "      <td>74</td>\n",
       "      <td>Étercy</td>\n",
       "      <td>74150</td>\n",
       "      <td>698</td>\n",
       "      <td>630</td>\n",
       "      <td>700</td>\n",
       "      <td>153</td>\n",
       "      <td>4.55</td>\n",
       "      <td>6.00000</td>\n",
       "      <td>45.8833</td>\n",
       "      <td>337.0</td>\n",
       "      <td>593.0</td>\n",
       "    </tr>\n",
       "    <tr>\n",
       "      <th>30291</th>\n",
       "      <td>74</td>\n",
       "      <td>Étrembières</td>\n",
       "      <td>74100</td>\n",
       "      <td>1887</td>\n",
       "      <td>1429</td>\n",
       "      <td>1800</td>\n",
       "      <td>347</td>\n",
       "      <td>5.43</td>\n",
       "      <td>6.23333</td>\n",
       "      <td>46.1833</td>\n",
       "      <td>393.0</td>\n",
       "      <td>860.0</td>\n",
       "    </tr>\n",
       "    <tr>\n",
       "      <th>30216</th>\n",
       "      <td>74</td>\n",
       "      <td>Évian-les-Bains</td>\n",
       "      <td>74500</td>\n",
       "      <td>8142</td>\n",
       "      <td>7278</td>\n",
       "      <td>8100</td>\n",
       "      <td>1897</td>\n",
       "      <td>4.29</td>\n",
       "      <td>6.58333</td>\n",
       "      <td>46.3833</td>\n",
       "      <td>372.0</td>\n",
       "      <td>772.0</td>\n",
       "    </tr>\n",
       "    <tr>\n",
       "      <th>30432</th>\n",
       "      <td>74</td>\n",
       "      <td>Évires</td>\n",
       "      <td>74570</td>\n",
       "      <td>1294</td>\n",
       "      <td>1062</td>\n",
       "      <td>1300</td>\n",
       "      <td>66</td>\n",
       "      <td>19.49</td>\n",
       "      <td>6.23333</td>\n",
       "      <td>46.0333</td>\n",
       "      <td>593.0</td>\n",
       "      <td>955.0</td>\n",
       "    </tr>\n",
       "  </tbody>\n",
       "</table>\n",
       "<p>294 rows × 12 columns</p>\n",
       "</div>"
      ],
      "text/plain": [
       "      dep                  nom     cp  nb_hab_2010  nb_hab_1999  nb_hab_2012  \\\n",
       "30171  74            Abondance  74360         1342         1297         1300   \n",
       "30422  74      Alby-sur-Chéran  74540         2012         1631         2000   \n",
       "30227  74                 Alex  74290          985          791         1000   \n",
       "30269  74             Allinges  74200         3982         3022         3800   \n",
       "30249  74  Allonzier-la-Caille  74350         1637         1080         1500   \n",
       "...    ..                  ...    ...          ...          ...          ...   \n",
       "30158  74               Épagny  74330         3899         3233         3800   \n",
       "30401  74               Étercy  74150          698          630          700   \n",
       "30291  74          Étrembières  74100         1887         1429         1800   \n",
       "30216  74      Évian-les-Bains  74500         8142         7278         8100   \n",
       "30432  74               Évires  74570         1294         1062         1300   \n",
       "\n",
       "       dens   surf     long      lat  alt_min  alt_max  \n",
       "30171    22  58.84  6.73333  46.2833    840.0   2420.0  \n",
       "30422   306   6.56  6.02084  45.8167    360.0    606.0  \n",
       "30227    57  17.02  6.23333  45.8833    516.0   1852.0  \n",
       "30269   265  15.01  6.46667  46.3333    438.0    750.0  \n",
       "30249   170   9.62  6.11667  46.0000    471.0    882.0  \n",
       "...     ...    ...      ...      ...      ...      ...  \n",
       "30158   575   6.77  6.10000  45.9333    440.0    775.0  \n",
       "30401   153   4.55  6.00000  45.8833    337.0    593.0  \n",
       "30291   347   5.43  6.23333  46.1833    393.0    860.0  \n",
       "30216  1897   4.29  6.58333  46.3833    372.0    772.0  \n",
       "30432    66  19.49  6.23333  46.0333    593.0    955.0  \n",
       "\n",
       "[294 rows x 12 columns]"
      ]
     },
     "execution_count": 139,
     "metadata": {},
     "output_type": "execute_result"
    }
   ],
   "source": [
    "table = tableVilles.to_pandas()\n",
    "\n",
    "# Sélection des informations pour le département 'Haute-Savoie'\n",
    "haute_savoie_data = table[table['dep'] == '74']\n",
    "\n",
    "# Tri par ordre alphabétique des villes\n",
    "haute_savoie_data_sorted = haute_savoie_data.sort_values(by='nom')\n",
    "haute_savoie_data_sorted"
   ]
  },
  {
   "cell_type": "markdown",
   "metadata": {},
   "source": [
    "### Question 6)\n",
    "Calculs sur plusieurs colonnes et agrégats : calcul du nombre moyen d'habitants en 2012 ; calcul du\n",
    "nombre moyen d'habitants par département ; afficher le résultat pour le département 74 (fonction\n",
    "TableGroupBy)."
   ]
  },
  {
   "cell_type": "code",
   "execution_count": 140,
   "metadata": {
    "ExecuteTime": {
     "end_time": "2024-01-31T13:53:55.105796400Z",
     "start_time": "2024-01-31T13:53:54.951439600Z"
    }
   },
   "outputs": [
    {
     "name": "stdout",
     "output_type": "stream",
     "text": [
      "Nombre moyen d'habitants en 2012: 1751.080272479564\n",
      "Nombre moyen d'habitants par département :\n",
      " pyarrow.Table\n",
      "nb_hab_2012_sum: int64\n",
      "dep: string\n",
      "----\n",
      "nb_hab_2012_sum: [[581700,540200,343100,158000,133900,...,394173,229040,821136,212645,6080]]\n",
      "dep: [[\"1\",\"2\",\"3\",\"4\",\"5\",...,\"972\",\"973\",\"974\",\"976\",\"975\"]]\n",
      "Statistiques pour le département 74 :\n",
      " pyarrow.Table\n",
      "nb_hab_2012_sum: int64\n",
      "dep: string\n",
      "----\n",
      "nb_hab_2012_sum: [[716500]]\n",
      "dep: [[\"74\"]]\n"
     ]
    }
   ],
   "source": [
    "mean_hab_2012 = pc.mean(tableVilles.column('nb_hab_2012'))\n",
    "print(\"Nombre moyen d'habitants en 2012:\", mean_hab_2012.as_py())\n",
    "\n",
    "grouped_by_dep = tableVilles.group_by(\"dep\").aggregate([\n",
    "    (\"nb_hab_2012\", \"sum\")\n",
    "])\n",
    "print(\"Nombre moyen d'habitants par département :\\n\", grouped_by_dep)\n",
    "\n",
    "dep_74_stats = pc.filter(grouped_by_dep, pc.equal(grouped_by_dep['dep'], \"74\"))\n",
    "print(\"Statistiques pour le département 74 :\\n\", dep_74_stats)\n"
   ]
  },
  {
   "cell_type": "markdown",
   "metadata": {},
   "source": [
    "### Question 7)\n",
    "Opérations ensemblistes jointures : afficher les zones de vacances des villes ; les villes de la zone de\n",
    "vacances A ; les départements des zones de vacances A et B ; le nombre de villes par académie ;"
   ]
  },
  {
   "cell_type": "code",
   "execution_count": 141,
   "metadata": {
    "ExecuteTime": {
     "end_time": "2024-01-31T13:53:55.105796400Z",
     "start_time": "2024-01-31T13:53:54.984605500Z"
    }
   },
   "outputs": [],
   "source": [
    "dfAcademies['dep'] = dfAcademies['dep'].astype(str).str.zfill(2)\n",
    "dfVilles['dep'] = dfVilles['dep'].astype(str).str.zfill(2)"
   ]
  },
  {
   "cell_type": "code",
   "execution_count": 142,
   "metadata": {
    "ExecuteTime": {
     "end_time": "2024-01-31T13:53:55.397073300Z",
     "start_time": "2024-01-31T13:53:55.009603400Z"
    }
   },
   "outputs": [
    {
     "data": {
      "text/html": [
       "<div>\n",
       "<style scoped>\n",
       "    .dataframe tbody tr th:only-of-type {\n",
       "        vertical-align: middle;\n",
       "    }\n",
       "\n",
       "    .dataframe tbody tr th {\n",
       "        vertical-align: top;\n",
       "    }\n",
       "\n",
       "    .dataframe thead th {\n",
       "        text-align: right;\n",
       "    }\n",
       "</style>\n",
       "<table border=\"1\" class=\"dataframe\">\n",
       "  <thead>\n",
       "    <tr style=\"text-align: right;\">\n",
       "      <th></th>\n",
       "      <th>dep</th>\n",
       "      <th>nom</th>\n",
       "      <th>cp</th>\n",
       "      <th>nb_hab_2010</th>\n",
       "      <th>nb_hab_1999</th>\n",
       "      <th>nb_hab_2012</th>\n",
       "      <th>dens</th>\n",
       "      <th>surf</th>\n",
       "      <th>long</th>\n",
       "      <th>lat</th>\n",
       "      <th>alt_min</th>\n",
       "      <th>alt_max</th>\n",
       "      <th>academie</th>\n",
       "      <th>wikipedia</th>\n",
       "      <th>vacances</th>\n",
       "      <th>departement</th>\n",
       "      <th>region</th>\n",
       "    </tr>\n",
       "  </thead>\n",
       "  <tbody>\n",
       "    <tr>\n",
       "      <th>0</th>\n",
       "      <td>01</td>\n",
       "      <td>Ozan</td>\n",
       "      <td>1190</td>\n",
       "      <td>618</td>\n",
       "      <td>469</td>\n",
       "      <td>500</td>\n",
       "      <td>93</td>\n",
       "      <td>6.60</td>\n",
       "      <td>4.91667</td>\n",
       "      <td>46.38330</td>\n",
       "      <td>170.0</td>\n",
       "      <td>205.0</td>\n",
       "      <td>Académie de Lyon</td>\n",
       "      <td>fr:Académie de Lyon (éducation)</td>\n",
       "      <td>Zone A</td>\n",
       "      <td>Ain</td>\n",
       "      <td>Auvergne-Rhône-Alpes</td>\n",
       "    </tr>\n",
       "    <tr>\n",
       "      <th>1</th>\n",
       "      <td>01</td>\n",
       "      <td>Cormoranche-sur-Saône</td>\n",
       "      <td>1290</td>\n",
       "      <td>1058</td>\n",
       "      <td>903</td>\n",
       "      <td>1000</td>\n",
       "      <td>107</td>\n",
       "      <td>9.85</td>\n",
       "      <td>4.83333</td>\n",
       "      <td>46.23330</td>\n",
       "      <td>168.0</td>\n",
       "      <td>211.0</td>\n",
       "      <td>Académie de Lyon</td>\n",
       "      <td>fr:Académie de Lyon (éducation)</td>\n",
       "      <td>Zone A</td>\n",
       "      <td>Ain</td>\n",
       "      <td>Auvergne-Rhône-Alpes</td>\n",
       "    </tr>\n",
       "    <tr>\n",
       "      <th>2</th>\n",
       "      <td>01</td>\n",
       "      <td>Plagne</td>\n",
       "      <td>1130</td>\n",
       "      <td>129</td>\n",
       "      <td>83</td>\n",
       "      <td>100</td>\n",
       "      <td>20</td>\n",
       "      <td>6.20</td>\n",
       "      <td>5.73333</td>\n",
       "      <td>46.18330</td>\n",
       "      <td>560.0</td>\n",
       "      <td>922.0</td>\n",
       "      <td>Académie de Lyon</td>\n",
       "      <td>fr:Académie de Lyon (éducation)</td>\n",
       "      <td>Zone A</td>\n",
       "      <td>Ain</td>\n",
       "      <td>Auvergne-Rhône-Alpes</td>\n",
       "    </tr>\n",
       "    <tr>\n",
       "      <th>3</th>\n",
       "      <td>01</td>\n",
       "      <td>Tossiat</td>\n",
       "      <td>1250</td>\n",
       "      <td>1406</td>\n",
       "      <td>1111</td>\n",
       "      <td>1400</td>\n",
       "      <td>138</td>\n",
       "      <td>10.17</td>\n",
       "      <td>5.31667</td>\n",
       "      <td>46.13330</td>\n",
       "      <td>244.0</td>\n",
       "      <td>501.0</td>\n",
       "      <td>Académie de Lyon</td>\n",
       "      <td>fr:Académie de Lyon (éducation)</td>\n",
       "      <td>Zone A</td>\n",
       "      <td>Ain</td>\n",
       "      <td>Auvergne-Rhône-Alpes</td>\n",
       "    </tr>\n",
       "    <tr>\n",
       "      <th>4</th>\n",
       "      <td>01</td>\n",
       "      <td>Pouillat</td>\n",
       "      <td>1250</td>\n",
       "      <td>88</td>\n",
       "      <td>58</td>\n",
       "      <td>100</td>\n",
       "      <td>14</td>\n",
       "      <td>6.23</td>\n",
       "      <td>5.43333</td>\n",
       "      <td>46.33330</td>\n",
       "      <td>333.0</td>\n",
       "      <td>770.0</td>\n",
       "      <td>Académie de Lyon</td>\n",
       "      <td>fr:Académie de Lyon (éducation)</td>\n",
       "      <td>Zone A</td>\n",
       "      <td>Ain</td>\n",
       "      <td>Auvergne-Rhône-Alpes</td>\n",
       "    </tr>\n",
       "    <tr>\n",
       "      <th>...</th>\n",
       "      <td>...</td>\n",
       "      <td>...</td>\n",
       "      <td>...</td>\n",
       "      <td>...</td>\n",
       "      <td>...</td>\n",
       "      <td>...</td>\n",
       "      <td>...</td>\n",
       "      <td>...</td>\n",
       "      <td>...</td>\n",
       "      <td>...</td>\n",
       "      <td>...</td>\n",
       "      <td>...</td>\n",
       "      <td>...</td>\n",
       "      <td>...</td>\n",
       "      <td>...</td>\n",
       "      <td>...</td>\n",
       "      <td>...</td>\n",
       "    </tr>\n",
       "    <tr>\n",
       "      <th>36695</th>\n",
       "      <td>976</td>\n",
       "      <td>Sada</td>\n",
       "      <td>97640</td>\n",
       "      <td>10195</td>\n",
       "      <td>10195</td>\n",
       "      <td>10195</td>\n",
       "      <td>933</td>\n",
       "      <td>10.92</td>\n",
       "      <td>45.10470</td>\n",
       "      <td>-12.84860</td>\n",
       "      <td>NaN</td>\n",
       "      <td>NaN</td>\n",
       "      <td>NaN</td>\n",
       "      <td>NaN</td>\n",
       "      <td>NaN</td>\n",
       "      <td>NaN</td>\n",
       "      <td>NaN</td>\n",
       "    </tr>\n",
       "    <tr>\n",
       "      <th>36696</th>\n",
       "      <td>976</td>\n",
       "      <td>Tsingoni</td>\n",
       "      <td>97680</td>\n",
       "      <td>10454</td>\n",
       "      <td>10454</td>\n",
       "      <td>10454</td>\n",
       "      <td>300</td>\n",
       "      <td>34.76</td>\n",
       "      <td>45.10700</td>\n",
       "      <td>-12.78970</td>\n",
       "      <td>NaN</td>\n",
       "      <td>NaN</td>\n",
       "      <td>NaN</td>\n",
       "      <td>NaN</td>\n",
       "      <td>NaN</td>\n",
       "      <td>NaN</td>\n",
       "      <td>NaN</td>\n",
       "    </tr>\n",
       "    <tr>\n",
       "      <th>36697</th>\n",
       "      <td>971</td>\n",
       "      <td>Saint-Barthélemy</td>\n",
       "      <td>97133</td>\n",
       "      <td>8938</td>\n",
       "      <td>8938</td>\n",
       "      <td>8938</td>\n",
       "      <td>372</td>\n",
       "      <td>24.00</td>\n",
       "      <td>-62.83330</td>\n",
       "      <td>17.91670</td>\n",
       "      <td>NaN</td>\n",
       "      <td>NaN</td>\n",
       "      <td>Académie de la Guadeloupe</td>\n",
       "      <td>fr:Académie de la Guadeloupe</td>\n",
       "      <td>NaN</td>\n",
       "      <td>Guadeloupe</td>\n",
       "      <td>Guadeloupe</td>\n",
       "    </tr>\n",
       "    <tr>\n",
       "      <th>36698</th>\n",
       "      <td>971</td>\n",
       "      <td>Saint-Martin</td>\n",
       "      <td>97150</td>\n",
       "      <td>36979</td>\n",
       "      <td>36979</td>\n",
       "      <td>36979</td>\n",
       "      <td>695</td>\n",
       "      <td>53.20</td>\n",
       "      <td>18.09130</td>\n",
       "      <td>-63.08290</td>\n",
       "      <td>NaN</td>\n",
       "      <td>NaN</td>\n",
       "      <td>Académie de la Guadeloupe</td>\n",
       "      <td>fr:Académie de la Guadeloupe</td>\n",
       "      <td>NaN</td>\n",
       "      <td>Guadeloupe</td>\n",
       "      <td>Guadeloupe</td>\n",
       "    </tr>\n",
       "    <tr>\n",
       "      <th>36699</th>\n",
       "      <td>975</td>\n",
       "      <td>Saint-Pierre-et-Miquelon</td>\n",
       "      <td>97500</td>\n",
       "      <td>6080</td>\n",
       "      <td>6080</td>\n",
       "      <td>6080</td>\n",
       "      <td>25</td>\n",
       "      <td>242.00</td>\n",
       "      <td>46.71070</td>\n",
       "      <td>1.71819</td>\n",
       "      <td>NaN</td>\n",
       "      <td>NaN</td>\n",
       "      <td>NaN</td>\n",
       "      <td>NaN</td>\n",
       "      <td>NaN</td>\n",
       "      <td>NaN</td>\n",
       "      <td>NaN</td>\n",
       "    </tr>\n",
       "  </tbody>\n",
       "</table>\n",
       "<p>36700 rows × 17 columns</p>\n",
       "</div>"
      ],
      "text/plain": [
       "       dep                       nom     cp  nb_hab_2010  nb_hab_1999  \\\n",
       "0       01                      Ozan   1190          618          469   \n",
       "1       01     Cormoranche-sur-Saône   1290         1058          903   \n",
       "2       01                    Plagne   1130          129           83   \n",
       "3       01                   Tossiat   1250         1406         1111   \n",
       "4       01                  Pouillat   1250           88           58   \n",
       "...    ...                       ...    ...          ...          ...   \n",
       "36695  976                      Sada  97640        10195        10195   \n",
       "36696  976                  Tsingoni  97680        10454        10454   \n",
       "36697  971          Saint-Barthélemy  97133         8938         8938   \n",
       "36698  971              Saint-Martin  97150        36979        36979   \n",
       "36699  975  Saint-Pierre-et-Miquelon  97500         6080         6080   \n",
       "\n",
       "       nb_hab_2012  dens    surf      long       lat  alt_min  alt_max  \\\n",
       "0              500    93    6.60   4.91667  46.38330    170.0    205.0   \n",
       "1             1000   107    9.85   4.83333  46.23330    168.0    211.0   \n",
       "2              100    20    6.20   5.73333  46.18330    560.0    922.0   \n",
       "3             1400   138   10.17   5.31667  46.13330    244.0    501.0   \n",
       "4              100    14    6.23   5.43333  46.33330    333.0    770.0   \n",
       "...            ...   ...     ...       ...       ...      ...      ...   \n",
       "36695        10195   933   10.92  45.10470 -12.84860      NaN      NaN   \n",
       "36696        10454   300   34.76  45.10700 -12.78970      NaN      NaN   \n",
       "36697         8938   372   24.00 -62.83330  17.91670      NaN      NaN   \n",
       "36698        36979   695   53.20  18.09130 -63.08290      NaN      NaN   \n",
       "36699         6080    25  242.00  46.71070   1.71819      NaN      NaN   \n",
       "\n",
       "                        academie                        wikipedia vacances  \\\n",
       "0               Académie de Lyon  fr:Académie de Lyon (éducation)   Zone A   \n",
       "1               Académie de Lyon  fr:Académie de Lyon (éducation)   Zone A   \n",
       "2               Académie de Lyon  fr:Académie de Lyon (éducation)   Zone A   \n",
       "3               Académie de Lyon  fr:Académie de Lyon (éducation)   Zone A   \n",
       "4               Académie de Lyon  fr:Académie de Lyon (éducation)   Zone A   \n",
       "...                          ...                              ...      ...   \n",
       "36695                        NaN                              NaN      NaN   \n",
       "36696                        NaN                              NaN      NaN   \n",
       "36697  Académie de la Guadeloupe     fr:Académie de la Guadeloupe      NaN   \n",
       "36698  Académie de la Guadeloupe     fr:Académie de la Guadeloupe      NaN   \n",
       "36699                        NaN                              NaN      NaN   \n",
       "\n",
       "      departement                region  \n",
       "0             Ain  Auvergne-Rhône-Alpes  \n",
       "1             Ain  Auvergne-Rhône-Alpes  \n",
       "2             Ain  Auvergne-Rhône-Alpes  \n",
       "3             Ain  Auvergne-Rhône-Alpes  \n",
       "4             Ain  Auvergne-Rhône-Alpes  \n",
       "...           ...                   ...  \n",
       "36695         NaN                   NaN  \n",
       "36696         NaN                   NaN  \n",
       "36697  Guadeloupe            Guadeloupe  \n",
       "36698  Guadeloupe            Guadeloupe  \n",
       "36699         NaN                   NaN  \n",
       "\n",
       "[36700 rows x 17 columns]"
      ]
     },
     "execution_count": 142,
     "metadata": {},
     "output_type": "execute_result"
    }
   ],
   "source": [
    "df_joint = pd.merge(dfVilles, dfAcademies, how=\"left\", on=\"dep\")\n",
    "df_joint"
   ]
  },
  {
   "cell_type": "code",
   "execution_count": 143,
   "metadata": {
    "ExecuteTime": {
     "end_time": "2024-01-31T13:53:55.399122100Z",
     "start_time": "2024-01-31T13:53:55.094343700Z"
    }
   },
   "outputs": [
    {
     "name": "stdout",
     "output_type": "stream",
     "text": [
      "Zones de vacances des villes : \n",
      "                     nom vacances\n",
      "0                   Ozan   Zone A\n",
      "1  Cormoranche-sur-Saône   Zone A\n",
      "2                 Plagne   Zone A\n",
      "3                Tossiat   Zone A\n",
      "4               Pouillat   Zone A\n"
     ]
    }
   ],
   "source": [
    "print(\"Zones de vacances des villes : \")\n",
    "print(df_joint[['nom', 'vacances']].head())\n"
   ]
  },
  {
   "cell_type": "code",
   "execution_count": 144,
   "metadata": {
    "ExecuteTime": {
     "end_time": "2024-01-31T13:53:55.399122100Z",
     "start_time": "2024-01-31T13:53:55.110601100Z"
    }
   },
   "outputs": [
    {
     "name": "stdout",
     "output_type": "stream",
     "text": [
      "Villes dans la zone A : \n",
      "                         nom vacances\n",
      "0                       Ozan   Zone A\n",
      "1      Cormoranche-sur-Saône   Zone A\n",
      "2                     Plagne   Zone A\n",
      "3                    Tossiat   Zone A\n",
      "4                   Pouillat   Zone A\n",
      "...                      ...      ...\n",
      "35699   Chavannes-les-Grands   Zone A\n",
      "35700             Lacollonge   Zone A\n",
      "35701               Bretagne   Zone A\n",
      "35702            Lepuix-Neuf   Zone A\n",
      "35703            Recouvrance   Zone A\n",
      "\n",
      "[12232 rows x 2 columns]\n"
     ]
    }
   ],
   "source": [
    "villes_zone_A = df_joint[df_joint['vacances'] == 'Zone A']\n",
    "print(\"Villes dans la zone A : \")\n",
    "print(villes_zone_A[['nom', 'vacances']])"
   ]
  },
  {
   "cell_type": "code",
   "execution_count": 145,
   "metadata": {
    "ExecuteTime": {
     "end_time": "2024-01-31T13:53:55.422725500Z",
     "start_time": "2024-01-31T13:53:55.135603300Z"
    }
   },
   "outputs": [
    {
     "name": "stdout",
     "output_type": "stream",
     "text": [
      "Villes des zones A et B : \n",
      "      dep vacances\n",
      "0      01   Zone A\n",
      "419    02   Zone B\n",
      "1235   03   Zone A\n",
      "1555   04   Zone B\n",
      "1755   05   Zone B\n",
      "...    ..      ...\n",
      "34150  86   Zone A\n",
      "34431  87   Zone A\n",
      "34632  88   Zone B\n",
      "35147  89   Zone A\n",
      "35602  90   Zone A\n",
      "\n",
      "[72 rows x 2 columns]\n"
     ]
    }
   ],
   "source": [
    "deps_zones_A_B = df_joint[df_joint['vacances'].isin(['Zone A', 'Zone B'])]\n",
    "print(\"Villes des zones A et B : \")\n",
    "print(deps_zones_A_B[['dep', 'vacances']].drop_duplicates())"
   ]
  },
  {
   "cell_type": "code",
   "execution_count": 146,
   "metadata": {
    "ExecuteTime": {
     "end_time": "2024-01-31T13:53:55.422725500Z",
     "start_time": "2024-01-31T13:53:55.174386200Z"
    }
   },
   "outputs": [
    {
     "name": "stdout",
     "output_type": "stream",
     "text": [
      "Nombre de villes par académie : \n",
      "academie\n",
      "Académie d'Aix-Marseille         647\n",
      "Académie d'Amiens               2291\n",
      "Académie d'Orléans-Tours        1842\n",
      "Académie de Besançon            1785\n",
      "Académie de Bordeaux            2296\n",
      "Académie de Caen                1812\n",
      "Académie de Clermont-Ferrand    1310\n",
      "Académie de Corse                360\n",
      "Académie de Créteil              601\n",
      "Académie de Dijon               2046\n",
      "Académie de Grenoble            1840\n",
      "Académie de Guyane                22\n",
      "Académie de Lille               1545\n",
      "Académie de Limoges              747\n",
      "Académie de Lyon                 746\n",
      "Académie de Montpellier         1545\n",
      "Académie de Nancy-Metz          2339\n",
      "Académie de Nantes              1502\n",
      "Académie de Nice                 316\n",
      "Académie de Paris                  1\n",
      "Académie de Poitiers            1462\n",
      "Académie de Reims               1949\n",
      "Académie de Rennes              1270\n",
      "Académie de Rouen               1420\n",
      "Académie de Strasbourg           904\n",
      "Académie de Toulouse            3020\n",
      "Académie de Versailles           679\n",
      "Académie de la Guadeloupe         34\n",
      "Académie de la Martinique         34\n",
      "Académie de la Réunion            24\n",
      "dtype: int64\n"
     ]
    }
   ],
   "source": [
    "villes_par_academie = df_joint.groupby('academie').size()\n",
    "print(\"Nombre de villes par académie : \")\n",
    "print(villes_par_academie)"
   ]
  },
  {
   "cell_type": "markdown",
   "metadata": {},
   "source": [
    "### Question 8)\n",
    "Affichage avec matplotlib : e.g. histogramme de la distribution du nombre de villes par académie."
   ]
  },
  {
   "cell_type": "code",
   "execution_count": 147,
   "metadata": {},
   "outputs": [
    {
     "data": {
      "image/png": "[encoded data removed]",
      "text/plain": [
       "<Figure size 1000x600 with 1 Axes>"
      ]
     },
     "metadata": {},
     "output_type": "display_data"
    }
   ],
   "source": [
    "villes_par_academie = df_joint['academie'].value_counts()\n",
    "\n",
    "plt.figure(figsize=(10,6))\n",
    "villes_par_academie.plot(kind='bar')\n",
    "plt.title('Nombre de villes par académie')\n",
    "plt.xlabel('Académie')\n",
    "plt.ylabel('Nombre de villes')\n",
    "plt.xticks(rotation=90)\n",
    "plt.tight_layout()\n",
    "\n",
    "plt.show()"
   ]
  },
  {
   "cell_type": "code",
   "execution_count": null,
   "metadata": {},
   "outputs": [],
   "source": [
    "df_merged = df_joint.head(200)\n",
    "\n",
    "root_dir = \"parquet/dataset_parquet\"\n",
    "compression_types = ['brotli', 'gzip', 'zstd', 'lz4', 'none']\n",
    "\n",
    "for compression in compression_types:\n",
    "    for academie, group_acad in df_merged.groupby('academie'):\n",
    "        academie_dir = os.path.join(root_dir, compression, academie)\n",
    "        for departement, group_dep in group_acad.groupby('dep'):\n",
    "            dep_dir = os.path.join(academie_dir, departement)\n",
    "            os.makedirs(dep_dir, exist_ok=True)\n",
    "            for ville, group_ville in group_dep.groupby('nom'):\n",
    "                file_path = os.path.join(dep_dir, f\"{ville}.parquet\")\n",
    "                table = pa.Table.from_pandas(group_ville)\n",
    "                pq.write_table(table, file_path, compression=compression)"
   ]
  },
  {
   "cell_type": "code",
   "execution_count": null,
   "metadata": {},
   "outputs": [],
   "source": [
    "for compression in compression_types:\n",
    "    total_size = 0\n",
    "    for dirpath, dirnames, filenames in os.walk(os.path.join(root_dir, compression)):\n",
    "        for f in filenames:\n",
    "            fp = os.path.join(dirpath, f)\n",
    "            total_size += os.path.getsize(fp)\n",
    "    print(f\"Total size for {compression}: {total_size} bytes\")"
   ]
  }
 ],
 "metadata": {
  "kernelspec": {
   "display_name": "base",
   "language": "python",
   "name": "python3"
  },
  "language_info": {
   "codemirror_mode": {
    "name": "ipython",
    "version": 3
   },
   "file_extension": ".py",
   "mimetype": "text/x-python",
   "name": "python",
   "nbconvert_exporter": "python",
   "pygments_lexer": "ipython3",
   "version": "3.11.4"
  }
 },
 "nbformat": 4,
 "nbformat_minor": 2
}
